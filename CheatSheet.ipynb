{
 "cells": [
  {
   "attachments": {},
   "cell_type": "markdown",
   "metadata": {},
   "source": [
    "# Python Knowledge"
   ]
  },
  {
   "attachments": {},
   "cell_type": "markdown",
   "metadata": {},
   "source": [
    "## Control Structures"
   ]
  },
  {
   "attachments": {},
   "cell_type": "markdown",
   "metadata": {},
   "source": [
    "### Control Statements (IF, ELIF, ELSE)"
   ]
  },
  {
   "attachments": {},
   "cell_type": "markdown",
   "metadata": {},
   "source": [
    "An **if** statement executes a block of code only when the specified condition is met.\\\n",
    "An **if** statement can have an optional **else** clause. The **else** statement executes if the condition in the **if** statement evaluates to **False**.\\\n",
    "The **if...else** statement is used to execute a block of code among two alternatives.\\\n",
    "However, if we need to make a choice between more than two alternatives, we use the **if...elif...else** statement.\\\n",
    "\\\n",
    "Here, we are checking if the variable '**A**' has stored a number **larger than 5**. If the **number is larger than 5**, if will output '**A is larger than 5**'. If the **number is smaller than 5**, it will output '**A is smaller than 5**'. Finally, if the **number is equal to 5**, it will output '**A is equal to 5**'!"
   ]
  },
  {
   "cell_type": "code",
   "execution_count": 4,
   "metadata": {},
   "outputs": [
    {
     "name": "stdout",
     "output_type": "stream",
     "text": [
      "A is equal to 5\n"
     ]
    }
   ],
   "source": [
    "A = 5\n",
    "\n",
    "if A > 5:\n",
    "    print('A is larger than 5')\n",
    "    \n",
    "elif A ==    5:\n",
    "    print('A is equal to 5')\n",
    "    \n",
    "else:\n",
    "    print('A is smaller than 5')"
   ]
  },
  {
   "attachments": {},
   "cell_type": "markdown",
   "metadata": {},
   "source": [
    "### Loops (for and while)"
   ]
  },
  {
   "attachments": {},
   "cell_type": "markdown",
   "metadata": {},
   "source": [
    "The **for** loop is used to iterate over a sequence (like a list, tuple, dictionary, set, or string). It executes the block of code for each item in the sequence.\n",
    "It is commonly used when the user wants a block of code to execute multiple times. *for i in range (0, 6):* (This will execute the block of code 6 times.)"
   ]
  },
  {
   "cell_type": "code",
   "execution_count": 5,
   "metadata": {},
   "outputs": [
    {
     "name": "stdout",
     "output_type": "stream",
     "text": [
      "apple\n",
      "banana\n",
      "cherry\n"
     ]
    }
   ],
   "source": [
    "#E.g 1\n",
    "fruits = [\"apple\", \"banana\", \"cherry\"]\n",
    "for i in fruits:\n",
    "    print(i)\n",
    "\n",
    "#This means for every element in 'fruits', it will run the block under it. (It will run 3 times). 'i' can also be used as a temporary variable to store things during the loop which can \n",
    "# later be used in a print statement."
   ]
  },
  {
   "cell_type": "code",
   "execution_count": 6,
   "metadata": {},
   "outputs": [
    {
     "name": "stdout",
     "output_type": "stream",
     "text": [
      "Banana\n",
      "Banana\n",
      "Banana\n",
      "Banana\n",
      "Banana\n",
      "Banana\n"
     ]
    }
   ],
   "source": [
    "#E.g 2\n",
    "for i in range(0,6):\n",
    "    print('Banana')\n",
    "    \n",
    "#This for loop has a set about of times it will run the block under it. (6 times, 0 to 6)."
   ]
  },
  {
   "attachments": {},
   "cell_type": "markdown",
   "metadata": {},
   "source": [
    "The **while** loop continues to execute a block of code as long as a specified condition is true."
   ]
  },
  {
   "cell_type": "code",
   "execution_count": 7,
   "metadata": {},
   "outputs": [
    {
     "name": "stdout",
     "output_type": "stream",
     "text": [
      "Count is: 0\n",
      "Count is: 1\n",
      "Count is: 2\n"
     ]
    }
   ],
   "source": [
    "count = 0\n",
    "while count < 3:\n",
    "    print(\"Count is:\", count)\n",
    "    count += 1\n",
    "    \n",
    "#In this while loop, if 'count' is less than 3, it will continute to run the code. It will run the code indefinitely unless we change the count to be above 3."
   ]
  },
  {
   "attachments": {},
   "cell_type": "markdown",
   "metadata": {},
   "source": [
    "The **break** statement can be used to exit a loop prematurely.\\\n",
    "The **continue** statement is used to skip the current action and move on the the next one. It is used as a block where a user would want to run the code but has nothing to put in that specific block."
   ]
  }
 ],
 "metadata": {
  "kernelspec": {
   "display_name": "Python 3",
   "language": "python",
   "name": "python3"
  },
  "language_info": {
   "codemirror_mode": {
    "name": "ipython",
    "version": 3
   },
   "file_extension": ".py",
   "mimetype": "text/x-python",
   "name": "python",
   "nbconvert_exporter": "python",
   "pygments_lexer": "ipython3",
   "version": "3.9.2"
  },
  "orig_nbformat": 4
 },
 "nbformat": 4,
 "nbformat_minor": 2
}
